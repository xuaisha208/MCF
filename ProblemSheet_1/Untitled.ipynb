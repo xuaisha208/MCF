{
 "cells": [
  {
   "cell_type": "code",
   "execution_count": 21,
   "metadata": {},
   "outputs": [],
   "source": [
    "def pielinear(x,k):\n",
    "    import numpy as np\n",
    "    \n",
    "    n = len(x)\n",
    "    m = len(k)\n",
    "    M = np.zeros((n,m+2))\n",
    "    M[:,0] = np.ones(n)\n",
    "    M[:,1] = x\n",
    "    \n",
    "    X = np.array([x for i in range(m)])\n",
    "    X = X.T\n",
    "    K = np.array([k for j in range(n)])\n",
    "    M[:,2:] = np.maximum(X-K,np.zeros((n,m)))\n",
    "    return M\n",
    " "
   ]
  },
  {
   "cell_type": "code",
   "execution_count": 25,
   "metadata": {},
   "outputs": [
    {
     "data": {
      "text/plain": [
       "array([[ 1.,  1., 10.,  9.,  8.,  7.,  6.,  5.,  4.,  3.,  2.,  1.,  0.,\n",
       "         0.,  0.,  0.,  0.,  0.,  0.,  0.,  0.,  0.],\n",
       "       [ 1.,  2., 11., 10.,  9.,  8.,  7.,  6.,  5.,  4.,  3.,  2.,  1.,\n",
       "         0.,  0.,  0.,  0.,  0.,  0.,  0.,  0.,  0.],\n",
       "       [ 1.,  3., 12., 11., 10.,  9.,  8.,  7.,  6.,  5.,  4.,  3.,  2.,\n",
       "         1.,  0.,  0.,  0.,  0.,  0.,  0.,  0.,  0.],\n",
       "       [ 1.,  4., 13., 12., 11., 10.,  9.,  8.,  7.,  6.,  5.,  4.,  3.,\n",
       "         2.,  1.,  0.,  0.,  0.,  0.,  0.,  0.,  0.],\n",
       "       [ 1.,  5., 14., 13., 12., 11., 10.,  9.,  8.,  7.,  6.,  5.,  4.,\n",
       "         3.,  2.,  1.,  0.,  0.,  0.,  0.,  0.,  0.],\n",
       "       [ 1.,  6., 15., 14., 13., 12., 11., 10.,  9.,  8.,  7.,  6.,  5.,\n",
       "         4.,  3.,  2.,  1.,  0.,  0.,  0.,  0.,  0.],\n",
       "       [ 1.,  7., 16., 15., 14., 13., 12., 11., 10.,  9.,  8.,  7.,  6.,\n",
       "         5.,  4.,  3.,  2.,  1.,  0.,  0.,  0.,  0.],\n",
       "       [ 1.,  8., 17., 16., 15., 14., 13., 12., 11., 10.,  9.,  8.,  7.,\n",
       "         6.,  5.,  4.,  3.,  2.,  1.,  0.,  0.,  0.],\n",
       "       [ 1.,  9., 18., 17., 16., 15., 14., 13., 12., 11., 10.,  9.,  8.,\n",
       "         7.,  6.,  5.,  4.,  3.,  2.,  1.,  0.,  0.],\n",
       "       [ 1., 10., 19., 18., 17., 16., 15., 14., 13., 12., 11., 10.,  9.,\n",
       "         8.,  7.,  6.,  5.,  4.,  3.,  2.,  1.,  0.]])"
      ]
     },
     "execution_count": 25,
     "metadata": {},
     "output_type": "execute_result"
    }
   ],
   "source": [
    "import numpy as np\n",
    "x = np.linspace(1,10,10)\n",
    "k = np.linspace(-9,10,20)\n",
    "M = pielinear(x,k)\n",
    "M"
   ]
  },
  {
   "cell_type": "code",
   "execution_count": 38,
   "metadata": {},
   "outputs": [
    {
     "name": "stdout",
     "output_type": "stream",
     "text": [
      "x2 = [0.57067815 0.94132958 0.12579889 0.46471408 0.99606173]\n",
      "k2 = [0.  0.5 1. ]\n"
     ]
    },
    {
     "data": {
      "text/plain": [
       "array([[1.        , 0.57067815, 0.57067815, 0.07067815, 0.        ],\n",
       "       [1.        , 0.94132958, 0.94132958, 0.44132958, 0.        ],\n",
       "       [1.        , 0.12579889, 0.12579889, 0.        , 0.        ],\n",
       "       [1.        , 0.46471408, 0.46471408, 0.        , 0.        ],\n",
       "       [1.        , 0.99606173, 0.99606173, 0.49606173, 0.        ]])"
      ]
     },
     "execution_count": 38,
     "metadata": {},
     "output_type": "execute_result"
    }
   ],
   "source": [
    "x2 = np.random.rand(5)\n",
    "print('x2 =',x2)\n",
    "k2 = np.linspace(0,1,3)\n",
    "print('k2 =', k2)\n",
    "M2 = pielinear(x2,k2)\n",
    "M2"
   ]
  }
 ],
 "metadata": {
  "kernelspec": {
   "display_name": "Python 3",
   "language": "python",
   "name": "python3"
  },
  "language_info": {
   "codemirror_mode": {
    "name": "ipython",
    "version": 3
   },
   "file_extension": ".py",
   "mimetype": "text/x-python",
   "name": "python",
   "nbconvert_exporter": "python",
   "pygments_lexer": "ipython3",
   "version": "3.7.9"
  }
 },
 "nbformat": 4,
 "nbformat_minor": 4
}
