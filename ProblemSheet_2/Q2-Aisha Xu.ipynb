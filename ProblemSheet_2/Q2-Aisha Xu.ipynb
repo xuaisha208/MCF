{
 "cells": [
  {
   "cell_type": "code",
   "execution_count": 21,
   "metadata": {},
   "outputs": [],
   "source": [
    "import numpy as np\n",
    "import statsmodels.api as sm\n",
    "from math import *"
   ]
  },
  {
   "cell_type": "code",
   "execution_count": 16,
   "metadata": {},
   "outputs": [],
   "source": [
    "def knots_finder(x,deg):\n",
    "    \n",
    "    \n",
    "    m = deg-2\n",
    "    if (deg<3):\n",
    "        stop(\"degree of freedom has to be no less than 3\")\n",
    "    q = np.arange(0,d,1)\n",
    "    q = q/(d-1)\n",
    "    q = q[1:-1]\n",
    "    \n",
    "    k = np.quantile(x,q,axis = 0)\n",
    "    return k"
   ]
  },
  {
   "cell_type": "code",
   "execution_count": 17,
   "metadata": {},
   "outputs": [],
   "source": [
    "def pielinear(x,k,first = True):\n",
    "    import numpy as np\n",
    "    \n",
    "    n = len(x)\n",
    "    m = len(k)\n",
    "    M = np.zeros((n,m+2))\n",
    "    M[:,0] = np.ones(n)\n",
    "    M[:,1] = x\n",
    "    \n",
    "    X = np.array([x for i in range(m)])\n",
    "    X = X.T\n",
    "    K = np.array([k for j in range(n)])\n",
    "    M[:,2:] = np.maximum(X-K,np.zeros((n,m)))\n",
    "    if first: #whether the keep the first columns of 1\n",
    "        return M\n",
    "    else:\n",
    "        return M[:,1:]"
   ]
  },
  {
   "cell_type": "code",
   "execution_count": null,
   "metadata": {},
   "outputs": [],
   "source": [
    "def pielinear_multivari(x_vec,deg):\n",
    "    k = knots_finder(x_vec,deg)\n",
    "    dim = x_vec.shape[1]\n",
    "    M = [pielinear(x_vec[:,i],k[:,i],first = False) for i in range(dim)]\n",
    "    X_vec = np.concatenate(M, axis = 1)\n",
    "    return X_vec"
   ]
  },
  {
   "cell_type": "code",
   "execution_count": 20,
   "metadata": {},
   "outputs": [],
   "source": [
    "def best_knots(y,x_vec):\n",
    "    max_d = int(sqrt(x_vec.shape[0]))\n",
    "    for d in range(max_d):\n",
    "        X_vec = pielinear_multivari(x_vec,d+1+2)\n",
    "        X_vec_new = sm.add_constant(X_vec)\n",
    "        model = sm.OLS(y,X_vec_new).fit()\n",
    "        aic_ = model.aic\n",
    "        print(d,aic_)\n",
    "        if d==0:\n",
    "            aic = aic_\n",
    "        if d != 0 and aic_ < aic:\n",
    "            aic = aic_\n",
    "            m_op = d+1\n",
    "    return m_op\n",
    "#m_op is the optimal number of knots using criteria AIC\n",
    "\n",
    "\n"
   ]
  }
 ],
 "metadata": {
  "kernelspec": {
   "display_name": "Python 3",
   "language": "python",
   "name": "python3"
  },
  "language_info": {
   "codemirror_mode": {
    "name": "ipython",
    "version": 3
   },
   "file_extension": ".py",
   "mimetype": "text/x-python",
   "name": "python",
   "nbconvert_exporter": "python",
   "pygments_lexer": "ipython3",
   "version": "3.7.9"
  }
 },
 "nbformat": 4,
 "nbformat_minor": 4
}
