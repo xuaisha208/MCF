{
 "cells": [
  {
   "cell_type": "markdown",
   "metadata": {},
   "source": [
    "\n",
    "<h1 align=\"center\"> Statistics and Financial Data Analysis\n",
    "<h1 align=\"center\"> Examples\n"
   ]
  },
  {
   "cell_type": "code",
   "execution_count": 16,
   "metadata": {},
   "outputs": [],
   "source": [
    "import pandas_datareader as pd_data\n",
    "import matplotlib.pyplot as plt\n",
    "import pandas as pd\n",
    "import numpy as np\n",
    "import scipy.stats as stats\n",
    "import math\n",
    "import scipy as sp\n",
    "import statsmodels.api as sm\n",
    "from statsmodels.distributions.empirical_distribution import ECDF\n",
    "from sklearn.linear_model import Ridge\n",
    "from sklearn.linear_model import Lasso\n",
    "from sklearn.linear_model import LinearRegression"
   ]
  },
  {
   "cell_type": "code",
   "execution_count": 2,
   "metadata": {},
   "outputs": [
    {
     "data": {
      "text/plain": [
       "(50, 30)"
      ]
     },
     "execution_count": 2,
     "metadata": {},
     "output_type": "execute_result"
    }
   ],
   "source": [
    "np.random.seed(0) \n",
    "\n",
    "n = 50 # number of observations\n",
    "p = 30 # dimensions of input\n",
    "\n",
    "x = np.zeros(n*p)\n",
    "\n",
    "x = np.random.normal(0,1,n*p)\n",
    "x = np.reshape(x,(n,p))\n",
    "\n",
    "X = x\n",
    "X.shape"
   ]
  },
  {
   "cell_type": "code",
   "execution_count": 3,
   "metadata": {},
   "outputs": [
    {
     "data": {
      "image/png": "[encoded data removed]",
      "text/plain": [
       "<Figure size 432x288 with 1 Axes>"
      ]
     },
     "metadata": {
      "needs_background": "light"
     },
     "output_type": "display_data"
    }
   ],
   "source": [
    "b1 = np.random.uniform(0,0.3,20)\n",
    "b2 = np.random.uniform(0.5,1,10)\n",
    "\n",
    "betas = np.concatenate((b2,b1))\n",
    "plt.hist(betas,bins = 30);\n",
    "plt.grid()"
   ]
  },
  {
   "cell_type": "code",
   "execution_count": 4,
   "metadata": {},
   "outputs": [],
   "source": [
    "mu = np.zeros(n)\n",
    "\n",
    "for i in range(n):\n",
    "        mu[i] = np.dot(betas,X[i])"
   ]
  },
  {
   "cell_type": "code",
   "execution_count": 5,
   "metadata": {},
   "outputs": [
    {
     "name": "stdout",
     "output_type": "stream",
     "text": [
      "1.6290931423445065 0.004553688435484351 0.6137848625949448\n",
      "1.6183385510304293\n"
     ]
    }
   ],
   "source": [
    "np.random.seed(1) \n",
    "simN = 100\n",
    "\n",
    "error = np.zeros(simN)\n",
    "fit_y = np.zeros(simN*n)\n",
    "fit_y = np.reshape(fit_y,(simN,n))\n",
    "\n",
    "# For same data points x_i, see different observations of y_i\n",
    "for j in range(simN):\n",
    "    y = np.zeros(n) \n",
    "    epsilon = np.zeros(n)\n",
    "    epsilon2 = np.zeros(n)\n",
    "    yReal = np.zeros(n) \n",
    "    \n",
    "    for i in range(n):\n",
    "        epsilon[i] = np.random.normal(0,1) \n",
    "        y[i] = mu[i]+ epsilon[i]\n",
    "        epsilon2[i] = np.random.normal(0,1) \n",
    "        yReal[i] = mu[i] +epsilon2[i]\n",
    "    \n",
    "    linModel = sm.OLS(y,X)\n",
    "    res = linModel.fit()   \n",
    "    ypred = res.fittedvalues\n",
    "    yres  = res.resid\n",
    "    resSqr = yres**2 \n",
    "\n",
    "    error[j]= ((ypred-yReal)**2).mean()\n",
    "    fit_y[j] = ypred \n",
    "    \n",
    "predErr = error.mean()\n",
    "temp = np.mean(fit_y, axis = 0) \n",
    "biasEst = np.sum((temp-mu)**2)/n\n",
    "temp2 = np.var(fit_y, axis = 0) \n",
    "varEst = temp2.mean()\n",
    "\n",
    "# average over all simulations 100 the coefficient betas*x\n",
    "# this will return a vector of n= 10 averages, which we take away the true fitted value\n",
    "\n",
    "\n",
    "print(predErr, biasEst, varEst)\n",
    "print(1+biasEst+varEst)\n"
   ]
  },
  {
   "cell_type": "code",
   "execution_count": 6,
   "metadata": {},
   "outputs": [
    {
     "data": {
      "image/png": "[encoded data removed]",
      "text/plain": [
       "<Figure size 576x432 with 1 Axes>"
      ]
     },
     "metadata": {
      "needs_background": "light"
     },
     "output_type": "display_data"
    }
   ],
   "source": [
    "plt.figure(1, figsize=(8,6))\n",
    "plt.hist(error, bins = 25)\n",
    "plt.xlabel('MSE for each OLS', fontsize = 14)\n",
    "plt.title('Distribution for 100 Training Sets', fontsize = 14)\n",
    "plt.grid()\n",
    "plt.savefig(\"MSE_Dist_OLS\")"
   ]
  },
  {
   "cell_type": "code",
   "execution_count": 7,
   "metadata": {},
   "outputs": [
    {
     "name": "stdout",
     "output_type": "stream",
     "text": [
      "(100, 50)\n",
      "1.629093142344507 0.004553688435484595 0.6137848625949448 0.6\n",
      "1.6183385510304293\n"
     ]
    }
   ],
   "source": [
    "np.random.seed(1) \n",
    "simN = 100\n",
    "\n",
    "\n",
    "error = np.zeros(simN)\n",
    "fit_y = np.zeros(simN*n)\n",
    "fit_y = np.reshape(fit_y,(simN,n))\n",
    "print(fit_y.shape)\n",
    "\n",
    "\n",
    "# For same data points, see different observations of y_i\n",
    "X = x\n",
    "for j in range(simN):\n",
    "    y = np.zeros(n) \n",
    "    epsilon = np.zeros(n)\n",
    "    epsilon2 = np.zeros(n)\n",
    "    yReal = np.zeros(n) \n",
    "    \n",
    "    for i in range(n):\n",
    "        epsilon[i] = np.random.normal(0,1) \n",
    "        y[i] = mu[i]+ epsilon[i]\n",
    "        epsilon2[i] = np.random.normal(0,1) \n",
    "        yReal[i] = mu[i] +epsilon2[i]\n",
    "    \n",
    "    linreg = LinearRegression(fit_intercept = False, normalize=True)\n",
    "    linreg.fit(X,y)\n",
    "    ypred = linreg.predict(X)\n",
    "    \n",
    "    error[j]= ((ypred-yReal)**2).mean()\n",
    "    fit_y[j] = ypred \n",
    "\n",
    "predErr = error.mean()\n",
    "# average over all simulations 100 the coefficient betas*x\n",
    "# this will return a vector of n= 10 averages, which we take away the true fitted value\n",
    "temp = np.mean(fit_y, axis = 0) \n",
    "biasEst = np.sum((temp-mu)**2)/n\n",
    "\n",
    "temp2 = np.var(fit_y, axis = 0) \n",
    "varEst = temp2.mean()\n",
    "predErrOLS = predErr\n",
    "\n",
    "print(predErr, biasEst, varEst, 30/50)\n",
    "print(1+biasEst+varEst)"
   ]
  },
  {
   "cell_type": "code",
   "execution_count": 8,
   "metadata": {},
   "outputs": [],
   "source": [
    "def simRidgeDiffAlpha(alpha):\n",
    "    \n",
    "    numAlpha = len(alpha)\n",
    "\n",
    "    predErr = np.zeros(numAlpha)\n",
    "    biasEst = np.zeros(numAlpha)\n",
    "    varEst = np.zeros(numAlpha)\n",
    "    \n",
    "    for z in range(numAlpha):\n",
    "\n",
    "        np.random.seed(1) \n",
    "        simN = 100\n",
    "\n",
    "        error = np.zeros(simN)\n",
    "        fit_y = np.zeros(simN*n)\n",
    "        fit_y = np.reshape(fit_y,(simN,n))\n",
    "\n",
    "        # For same data points, see different observations of y_i\n",
    "        X = x\n",
    "        for j in range(simN):\n",
    "            y = np.zeros(n) \n",
    "            epsilon = np.zeros(n)\n",
    "            epsilon2 = np.zeros(n)\n",
    "            yReal = np.zeros(n) \n",
    "\n",
    "            for i in range(n):\n",
    "                epsilon[i] = np.random.normal(0,1) \n",
    "                y[i] = mu[i]+ epsilon[i]\n",
    "                epsilon2[i] = np.random.normal(0,1) \n",
    "                yReal[i] = mu[i] +epsilon2[i]\n",
    "\n",
    "            ridreg = Ridge(alpha = alpha[z],fit_intercept = False, normalize=True)\n",
    "            ridreg.fit(X,y)\n",
    "            ypred = ridreg.predict(X)\n",
    "\n",
    "            error[j]= ((ypred-yReal)**2).mean()\n",
    "            fit_y[j] = ypred \n",
    "            \n",
    "        predErr[z] = error.mean()\n",
    "        \n",
    "        temp = np.mean(fit_y, axis = 0) \n",
    "        biasEst[z] = np.sum((temp-mu)**2)/n\n",
    "\n",
    "        temp2 = np.var(fit_y, axis = 0) \n",
    "        varEst[z] = temp2.mean()\n",
    "\n",
    "    \n",
    "    return predErr, biasEst, varEst\n",
    "    "
   ]
  },
  {
   "cell_type": "code",
   "execution_count": 9,
   "metadata": {},
   "outputs": [
    {
     "data": {
      "text/plain": [
       "(30,)"
      ]
     },
     "execution_count": 9,
     "metadata": {},
     "output_type": "execute_result"
    }
   ],
   "source": [
    "X[0].shape"
   ]
  },
  {
   "cell_type": "code",
   "execution_count": 10,
   "metadata": {},
   "outputs": [
    {
     "data": {
      "text/plain": [
       "array([0.00455369, 0.00738096, 0.01808599, 0.03439605, 0.05486546,\n",
       "       0.07850425, 0.10459978, 0.13262041, 0.162159  , 0.19289729,\n",
       "       0.22458252, 0.25701133, 0.29001834, 0.32346785, 0.35724768,\n",
       "       0.39126451, 0.42544027, 0.45970939, 0.49401652, 0.52831486,\n",
       "       0.56256471, 0.5967323 , 0.63078892, 0.66471011, 0.69847502])"
      ]
     },
     "execution_count": 10,
     "metadata": {},
     "output_type": "execute_result"
    }
   ],
   "source": [
    "alphaSimN = 25\n",
    "\n",
    "alpha = np.linspace(0,25,alphaSimN)\n",
    "\n",
    "predErr,biasEst,varEst = simRidgeDiffAlpha(alpha)\n",
    "test = 1+biasEst + varEst\n",
    "\n",
    "biasEst"
   ]
  },
  {
   "cell_type": "code",
   "execution_count": 11,
   "metadata": {},
   "outputs": [
    {
     "data": {
      "text/plain": [
       "array([0.61378486, 0.56152672, 0.52097239, 0.48774388, 0.45958557,\n",
       "       0.43517328, 0.41365665, 0.39445313, 0.37714392, 0.36141655,\n",
       "       0.34703095, 0.33379825, 0.32156693, 0.31021346, 0.29963568,\n",
       "       0.28974812, 0.28047851, 0.27176517, 0.26355503, 0.25580211,\n",
       "       0.2484663 , 0.24151238, 0.23490929, 0.22862948, 0.22264842])"
      ]
     },
     "execution_count": 11,
     "metadata": {},
     "output_type": "execute_result"
    }
   ],
   "source": [
    "varEst"
   ]
  },
  {
   "cell_type": "code",
   "execution_count": 12,
   "metadata": {},
   "outputs": [
    {
     "data": {
      "image/png": "[encoded data removed]",
      "text/plain": [
       "<Figure size 576x432 with 1 Axes>"
      ]
     },
     "metadata": {
      "needs_background": "light"
     },
     "output_type": "display_data"
    }
   ],
   "source": [
    "plt.figure(1, figsize=(8,6))\n",
    "plt.plot(alpha,predErr, linewidth = 4,label = 'PredErr Ridge')\n",
    "plt.axhline(y=predErrOLS, color='r', linewidth = 2,linestyle='--', label = 'PErr OLS')\n",
    "plt.xlabel('Alpha', fontsize = 14)\n",
    "plt.ylabel('PredErr', fontsize = 14)\n",
    "plt.legend()\n",
    "plt.grid()\n",
    "plt.savefig(\"PredError_Ridge\")"
   ]
  },
  {
   "cell_type": "code",
   "execution_count": 13,
   "metadata": {},
   "outputs": [
    {
     "data": {
      "image/png": "[encoded data removed]",
      "text/plain": [
       "<Figure size 576x432 with 1 Axes>"
      ]
     },
     "metadata": {
      "needs_background": "light"
     },
     "output_type": "display_data"
    }
   ],
   "source": [
    "mse = predErr -1 \n",
    "plt.figure(1, figsize=(8,6))\n",
    "plt.plot(alpha,mse, linewidth = 4,label = 'MSE Ridge')\n",
    "plt.plot(alpha,varEst, linewidth = 4,label = 'Var Ridge')\n",
    "plt.plot(alpha,biasEst, linewidth = 4,label = 'BiasSqr Ridge')\n",
    "plt.axhline(y=predErrOLS-1, color='r', linewidth = 2,linestyle='--', label = 'MSE OLS')\n",
    "plt.xlabel('Alpha', fontsize = 14)\n",
    "plt.ylabel('PredErr', fontsize = 14)\n",
    "plt.legend()\n",
    "plt.grid()\n",
    "plt.savefig(\"PredErr_BiasVar_decomp\")"
   ]
  },
  {
   "cell_type": "code",
   "execution_count": null,
   "metadata": {},
   "outputs": [],
   "source": []
  }
 ],
 "metadata": {
  "kernelspec": {
   "display_name": "Python 3",
   "language": "python",
   "name": "python3"
  },
  "language_info": {
   "codemirror_mode": {
    "name": "ipython",
    "version": 3
   },
   "file_extension": ".py",
   "mimetype": "text/x-python",
   "name": "python",
   "nbconvert_exporter": "python",
   "pygments_lexer": "ipython3",
   "version": "3.7.9"
  }
 },
 "nbformat": 4,
 "nbformat_minor": 2
}
