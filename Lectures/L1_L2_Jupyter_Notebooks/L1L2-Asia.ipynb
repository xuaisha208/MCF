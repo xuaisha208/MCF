{
 "cells": [
  {
   "cell_type": "code",
   "execution_count": 30,
   "metadata": {},
   "outputs": [],
   "source": [
    "import numpy as np\n",
    "import scipy.stats as stats\n",
    "import matplotlib.pyplot as plt\n",
    "import statsmodels.api as sm"
   ]
  },
  {
   "cell_type": "code",
   "execution_count": 20,
   "metadata": {},
   "outputs": [],
   "source": [
    "np.random.seed(17)\n",
    "\n",
    "mu = 0\n",
    "std = 0.4\n",
    "\n",
    "rv = stats.norm(mu,std)\n",
    "\n",
    "a = 2\n",
    "b = 0.5\n",
    "\n",
    "m = 200\n",
    "\n",
    "def f(x,a,b,rv):\n",
    "    n = x.size\n",
    "    z = rv.rvs(size = n)\n",
    "    y = np.zeros(n)\n",
    "    y_hat = y.copy()\n",
    "    y_1 = y.copy()\n",
    "    y_2 = y.copy()\n",
    "    for i in range(n):\n",
    "        y[i] = a*x[i]+b+z[i]\n",
    "        y_hat[i] = a*x[i]+b\n",
    "        y_1[i] = a*1.2*x[i]-1.2\n",
    "        y_2[i] = a*0.9*x[i]+1.1\n",
    "    return y,y_hat,y_1,y_2\n"
   ]
  },
  {
   "cell_type": "code",
   "execution_count": 41,
   "metadata": {},
   "outputs": [],
   "source": [
    "x = np.linspace(0,10,m+1)\n",
    "y,y_hat,y_1,y_2 = f(x,a,b,rv)"
   ]
  },
  {
   "cell_type": "code",
   "execution_count": 42,
   "metadata": {},
   "outputs": [
    {
     "data": {
      "image/png": "[encoded data removed]",
      "text/plain": [
       "<Figure size 504x360 with 1 Axes>"
      ]
     },
     "metadata": {
      "needs_background": "light"
     },
     "output_type": "display_data"
    }
   ],
   "source": [
    "plt.figure(1,figsize = (7,5))\n",
    "plt.scatter(x,y)\n",
    "plt.plot(x,y_hat,'r',linewidth = 5)\n",
    "plt.plot(x,y_1,'g',linewidth = 5)\n",
    "plt.plot(x,y_2,'b',linewidth = 5)\n",
    "plt.grid()"
   ]
  },
  {
   "cell_type": "code",
   "execution_count": 46,
   "metadata": {
    "scrolled": true
   },
   "outputs": [
    {
     "data": {
      "text/html": [
       "<table class=\"simpletable\">\n",
       "<caption>OLS Regression Results</caption>\n",
       "<tr>\n",
       "  <th>Dep. Variable:</th>            <td>y</td>        <th>  R-squared:         </th> <td>   0.996</td> \n",
       "</tr>\n",
       "<tr>\n",
       "  <th>Model:</th>                   <td>OLS</td>       <th>  Adj. R-squared:    </th> <td>   0.996</td> \n",
       "</tr>\n",
       "<tr>\n",
       "  <th>Method:</th>             <td>Least Squares</td>  <th>  F-statistic:       </th> <td>4.574e+04</td>\n",
       "</tr>\n",
       "<tr>\n",
       "  <th>Date:</th>             <td>Sun, 18 Oct 2020</td> <th>  Prob (F-statistic):</th> <td>4.01e-237</td>\n",
       "</tr>\n",
       "<tr>\n",
       "  <th>Time:</th>                 <td>20:07:15</td>     <th>  Log-Likelihood:    </th> <td> -92.217</td> \n",
       "</tr>\n",
       "<tr>\n",
       "  <th>No. Observations:</th>      <td>   201</td>      <th>  AIC:               </th> <td>   188.4</td> \n",
       "</tr>\n",
       "<tr>\n",
       "  <th>Df Residuals:</th>          <td>   199</td>      <th>  BIC:               </th> <td>   195.0</td> \n",
       "</tr>\n",
       "<tr>\n",
       "  <th>Df Model:</th>              <td>     1</td>      <th>                     </th>     <td> </td>    \n",
       "</tr>\n",
       "<tr>\n",
       "  <th>Covariance Type:</th>      <td>nonrobust</td>    <th>                     </th>     <td> </td>    \n",
       "</tr>\n",
       "</table>\n",
       "<table class=\"simpletable\">\n",
       "<tr>\n",
       "    <td></td>       <th>coef</th>     <th>std err</th>      <th>t</th>      <th>P>|t|</th>  <th>[0.025</th>    <th>0.975]</th>  \n",
       "</tr>\n",
       "<tr>\n",
       "  <th>const</th> <td>    0.4759</td> <td>    0.054</td> <td>    8.801</td> <td> 0.000</td> <td>    0.369</td> <td>    0.583</td>\n",
       "</tr>\n",
       "<tr>\n",
       "  <th>x1</th>    <td>    2.0006</td> <td>    0.009</td> <td>  213.866</td> <td> 0.000</td> <td>    1.982</td> <td>    2.019</td>\n",
       "</tr>\n",
       "</table>\n",
       "<table class=\"simpletable\">\n",
       "<tr>\n",
       "  <th>Omnibus:</th>       <td> 0.621</td> <th>  Durbin-Watson:     </th> <td>   2.095</td>\n",
       "</tr>\n",
       "<tr>\n",
       "  <th>Prob(Omnibus):</th> <td> 0.733</td> <th>  Jarque-Bera (JB):  </th> <td>   0.752</td>\n",
       "</tr>\n",
       "<tr>\n",
       "  <th>Skew:</th>          <td>-0.107</td> <th>  Prob(JB):          </th> <td>   0.687</td>\n",
       "</tr>\n",
       "<tr>\n",
       "  <th>Kurtosis:</th>      <td> 2.790</td> <th>  Cond. No.          </th> <td>    11.8</td>\n",
       "</tr>\n",
       "</table><br/><br/>Notes:<br/>[1] Standard Errors assume that the covariance matrix of the errors is correctly specified."
      ],
      "text/plain": [
       "<class 'statsmodels.iolib.summary.Summary'>\n",
       "\"\"\"\n",
       "                            OLS Regression Results                            \n",
       "==============================================================================\n",
       "Dep. Variable:                      y   R-squared:                       0.996\n",
       "Model:                            OLS   Adj. R-squared:                  0.996\n",
       "Method:                 Least Squares   F-statistic:                 4.574e+04\n",
       "Date:                Sun, 18 Oct 2020   Prob (F-statistic):          4.01e-237\n",
       "Time:                        20:07:15   Log-Likelihood:                -92.217\n",
       "No. Observations:                 201   AIC:                             188.4\n",
       "Df Residuals:                     199   BIC:                             195.0\n",
       "Df Model:                           1                                         \n",
       "Covariance Type:            nonrobust                                         \n",
       "==============================================================================\n",
       "                 coef    std err          t      P>|t|      [0.025      0.975]\n",
       "------------------------------------------------------------------------------\n",
       "const          0.4759      0.054      8.801      0.000       0.369       0.583\n",
       "x1             2.0006      0.009    213.866      0.000       1.982       2.019\n",
       "==============================================================================\n",
       "Omnibus:                        0.621   Durbin-Watson:                   2.095\n",
       "Prob(Omnibus):                  0.733   Jarque-Bera (JB):                0.752\n",
       "Skew:                          -0.107   Prob(JB):                        0.687\n",
       "Kurtosis:                       2.790   Cond. No.                         11.8\n",
       "==============================================================================\n",
       "\n",
       "Notes:\n",
       "[1] Standard Errors assume that the covariance matrix of the errors is correctly specified.\n",
       "\"\"\""
      ]
     },
     "execution_count": 46,
     "metadata": {},
     "output_type": "execute_result"
    }
   ],
   "source": [
    "X = x\n",
    "Xnew = sm.add_constant(X) # Xnew.shape = (201,2)\n",
    "#in each row, Xnew[i]=(1,X(i))\n",
    "#recall y_hat[i] = beta_0 * 1 + beta_1 * x[i]\n",
    "model = sm.OLS(y,Xnew).fit()\n",
    "model.summary()\n"
   ]
  },
  {
   "cell_type": "markdown",
   "metadata": {},
   "source": [
    "df_residuals: n - (m+1) = 201 - 2 = 199  \n",
    "$stderror^{2}_{\\beta_1}$ = $\\sqrt{\\frac{\\hat{\\sigma}^2}{n(S_x^2)}}$   \n",
    "\n",
    "$std error^2_{\\beta_0} = \\hat{\\sigma}^2 (\\frac{1}{n}+\\frac{\\bar{x}^2}{n(S_x^2)})$\n",
    "\n",
    "$\\hat{\\sigma}^2 =\\frac{\\sum_{i=1}^{201}\\hat{\\epsilon}^2_i}{n-2}$ , while $\\hat{\\epsilon} = y_i - \\hat{y}_i$  \n",
    "\n",
    "$S_x^2 = \\frac{\\sum_{i=1}^{201}(x_i-\\hat{x}_i)^2}{n}$"
   ]
  },
  {
   "cell_type": "code",
   "execution_count": 47,
   "metadata": {},
   "outputs": [],
   "source": [
    "import pandas as pd"
   ]
  },
  {
   "cell_type": "code",
   "execution_count": 48,
   "metadata": {},
   "outputs": [],
   "source": [
    "df = pd.read_csv('WeekInt.csv')"
   ]
  }
 ],
 "metadata": {
  "kernelspec": {
   "display_name": "Python 3",
   "language": "python",
   "name": "python3"
  },
  "language_info": {
   "codemirror_mode": {
    "name": "ipython",
    "version": 3
   },
   "file_extension": ".py",
   "mimetype": "text/x-python",
   "name": "python",
   "nbconvert_exporter": "python",
   "pygments_lexer": "ipython3",
   "version": "3.7.9"
  }
 },
 "nbformat": 4,
 "nbformat_minor": 4
}
